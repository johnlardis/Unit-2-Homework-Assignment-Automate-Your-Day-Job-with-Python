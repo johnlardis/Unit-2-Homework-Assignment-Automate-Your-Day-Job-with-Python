{
 "cells": [
  {
   "cell_type": "code",
   "execution_count": null,
   "id": "1723689b-0925-45bb-ac17-6adb9a828243",
   "metadata": {
    "tags": []
   },
   "outputs": [],
   "source": []
  },
  {
   "cell_type": "code",
   "execution_count": 2,
   "id": "5754ac1a-67fc-4eaf-aafb-b35e75148add",
   "metadata": {},
   "outputs": [],
   "source": [
    "#import data set using pandas\n",
    "\n",
    "import pandas as pd"
   ]
  },
  {
   "cell_type": "code",
   "execution_count": 3,
   "id": "09e73b0a-b46a-4c32-92e8-82aea2f1c7f6",
   "metadata": {},
   "outputs": [
    {
     "data": {
      "text/plain": [
       "'C:\\\\Users\\\\John Lardis\\\\Unit-2-Homework-Assignment-Automate-Your-Day-Job-with-Python'"
      ]
     },
     "execution_count": 3,
     "metadata": {},
     "output_type": "execute_result"
    }
   ],
   "source": [
    "pwd"
   ]
  },
  {
   "cell_type": "code",
   "execution_count": 4,
   "id": "85fee8fd-5e42-4387-be1e-e28a4a21232b",
   "metadata": {},
   "outputs": [
    {
     "data": {
      "text/html": [
       "<div>\n",
       "<style scoped>\n",
       "    .dataframe tbody tr th:only-of-type {\n",
       "        vertical-align: middle;\n",
       "    }\n",
       "\n",
       "    .dataframe tbody tr th {\n",
       "        vertical-align: top;\n",
       "    }\n",
       "\n",
       "    .dataframe thead th {\n",
       "        text-align: right;\n",
       "    }\n",
       "</style>\n",
       "<table border=\"1\" class=\"dataframe\">\n",
       "  <thead>\n",
       "    <tr style=\"text-align: right;\">\n",
       "      <th></th>\n",
       "      <th>Date</th>\n",
       "      <th>Profit/Losses</th>\n",
       "    </tr>\n",
       "  </thead>\n",
       "  <tbody>\n",
       "    <tr>\n",
       "      <th>0</th>\n",
       "      <td>Jan-2010</td>\n",
       "      <td>867884</td>\n",
       "    </tr>\n",
       "    <tr>\n",
       "      <th>1</th>\n",
       "      <td>Feb-2010</td>\n",
       "      <td>984655</td>\n",
       "    </tr>\n",
       "    <tr>\n",
       "      <th>2</th>\n",
       "      <td>Mar-2010</td>\n",
       "      <td>322013</td>\n",
       "    </tr>\n",
       "    <tr>\n",
       "      <th>3</th>\n",
       "      <td>Apr-2010</td>\n",
       "      <td>-69417</td>\n",
       "    </tr>\n",
       "    <tr>\n",
       "      <th>4</th>\n",
       "      <td>May-2010</td>\n",
       "      <td>310503</td>\n",
       "    </tr>\n",
       "    <tr>\n",
       "      <th>...</th>\n",
       "      <td>...</td>\n",
       "      <td>...</td>\n",
       "    </tr>\n",
       "    <tr>\n",
       "      <th>81</th>\n",
       "      <td>Oct-2016</td>\n",
       "      <td>102685</td>\n",
       "    </tr>\n",
       "    <tr>\n",
       "      <th>82</th>\n",
       "      <td>Nov-2016</td>\n",
       "      <td>795914</td>\n",
       "    </tr>\n",
       "    <tr>\n",
       "      <th>83</th>\n",
       "      <td>Dec-2016</td>\n",
       "      <td>60988</td>\n",
       "    </tr>\n",
       "    <tr>\n",
       "      <th>84</th>\n",
       "      <td>Jan-2017</td>\n",
       "      <td>138230</td>\n",
       "    </tr>\n",
       "    <tr>\n",
       "      <th>85</th>\n",
       "      <td>Feb-2017</td>\n",
       "      <td>671099</td>\n",
       "    </tr>\n",
       "  </tbody>\n",
       "</table>\n",
       "<p>86 rows × 2 columns</p>\n",
       "</div>"
      ],
      "text/plain": [
       "        Date  Profit/Losses\n",
       "0   Jan-2010         867884\n",
       "1   Feb-2010         984655\n",
       "2   Mar-2010         322013\n",
       "3   Apr-2010         -69417\n",
       "4   May-2010         310503\n",
       "..       ...            ...\n",
       "81  Oct-2016         102685\n",
       "82  Nov-2016         795914\n",
       "83  Dec-2016          60988\n",
       "84  Jan-2017         138230\n",
       "85  Feb-2017         671099\n",
       "\n",
       "[86 rows x 2 columns]"
      ]
     },
     "execution_count": 4,
     "metadata": {},
     "output_type": "execute_result"
    }
   ],
   "source": [
    "#testing to use full file name in case file is outside of working folder \n",
    "pd.read_csv('C:\\\\Users\\\\John Lardis\\\\Unit-2-Homework-Assignment-Automate-Your-Day-Job-with-Python\\\\budget_data.csv')"
   ]
  },
  {
   "cell_type": "code",
   "execution_count": 5,
   "id": "15c8efbc-caeb-48b3-99a5-9b8ef85ee501",
   "metadata": {},
   "outputs": [],
   "source": [
    "#setting a new variable for budget_data \n",
    "df = pd.read_csv('budget_data.csv')"
   ]
  },
  {
   "cell_type": "code",
   "execution_count": 14,
   "id": "2037d0bc-8c58-4137-b65e-c26733b5c7eb",
   "metadata": {},
   "outputs": [
    {
     "name": "stdout",
     "output_type": "stream",
     "text": [
      "86\n"
     ]
    }
   ],
   "source": [
    "# The total number of months included in the dataset.\n",
    "\n",
    "month_count = df[\"Date\"].count()\n",
    "\n",
    "print(month_count)"
   ]
  },
  {
   "cell_type": "code",
   "execution_count": 18,
   "id": "4291c10f-6de2-4e45-a11e-c719dd24c613",
   "metadata": {},
   "outputs": [
    {
     "name": "stdout",
     "output_type": "stream",
     "text": [
      "38382578\n"
     ]
    }
   ],
   "source": [
    "# The net total amount of Profit/Losses over the entire period.\n",
    "\n",
    "total_pnl = 0\n",
    "\n",
    "total_pnl = df[\"Profit/Losses\"].sum()\n",
    "\n",
    "print(total_pnl)"
   ]
  },
  {
   "cell_type": "code",
   "execution_count": 71,
   "id": "d15bd21e-d9f8-405d-900e-0f5d2b4ba9b1",
   "metadata": {},
   "outputs": [
    {
     "data": {
      "text/plain": [
       "pandas.core.frame.DataFrame"
      ]
     },
     "execution_count": 71,
     "metadata": {},
     "output_type": "execute_result"
    }
   ],
   "source": [
    "# The average of the changes in Profit/Losses over the entire period\n",
    "\n",
    "# First insert a pnl_change column \n",
    "\n",
    "\n",
    "df['pnl_change'] = df[\"Profit/Losses\"]- df[\"Profit/Losses\"].shift()\n",
    "df\n"
   ]
  },
  {
   "cell_type": "code",
   "execution_count": 58,
   "id": "45fe1218-f424-41cb-87d4-61c22759dfaf",
   "metadata": {},
   "outputs": [],
   "source": [
    "date = df[\"Date\"]"
   ]
  },
  {
   "cell_type": "code",
   "execution_count": 59,
   "id": "0bbe6534-c0cb-4ceb-8647-366884814d06",
   "metadata": {},
   "outputs": [
    {
     "name": "stdout",
     "output_type": "stream",
     "text": [
      "-2315.1176470588234\n"
     ]
    }
   ],
   "source": [
    "# calculate change (mean) in pnl_column \n",
    "\n",
    "pnl_change_average = df[\"pnl_change\"].mean()\n",
    "\n",
    "print(pnl_change_average)\n"
   ]
  },
  {
   "cell_type": "code",
   "execution_count": 54,
   "id": "f7bfa466-049c-4c7a-85f3-c668b516a101",
   "metadata": {},
   "outputs": [
    {
     "name": "stdout",
     "output_type": "stream",
     "text": [
      "-2196167.0\n"
     ]
    }
   ],
   "source": [
    "# The greatest decrease in losses (date and amount) over the entire period.\n",
    "\n",
    "pnl_change_min = df[\"pnl_change\"].min()\n",
    "\n",
    "print(pnl_change_min)\n"
   ]
  },
  {
   "cell_type": "code",
   "execution_count": 55,
   "id": "bc9a1ea2-c928-42df-94c4-bda1f88a24f6",
   "metadata": {},
   "outputs": [
    {
     "name": "stdout",
     "output_type": "stream",
     "text": [
      "1926159.0\n"
     ]
    }
   ],
   "source": [
    "#The greatest increase in profits (date and amount) over the entire period.\n",
    "\n",
    "pnl_change_max = df[\"pnl_change\"].max()\n",
    "\n",
    "print(pnl_change_max)\n",
    "\n",
    "\n"
   ]
  },
  {
   "cell_type": "code",
   "execution_count": 78,
   "id": "ae7773a4-7b32-456c-9784-3b36fee3dc1f",
   "metadata": {},
   "outputs": [
    {
     "name": "stdout",
     "output_type": "stream",
     "text": [
      "['Feb-2012']\n",
      "['Sep-2013']\n"
     ]
    }
   ],
   "source": [
    "# find the dates for max and min values \n",
    "# this means find the key that relates to the min and max values\n",
    "\n",
    "pnl_change_max_date = df.loc[df['pnl_change'] == pnl_change_max, 'Date'].unique()\n",
    "\n",
    "print(pnl_change_max_date)\n",
    "\n",
    "pnl_change_min_date = df.loc[df['pnl_change'] == pnl_change_min, 'Date'].unique()\n",
    "\n",
    "print(pnl_change_min_date)\n",
    "\n"
   ]
  },
  {
   "cell_type": "code",
   "execution_count": null,
   "id": "936b65bb-2879-43e4-be07-52c3dd56e902",
   "metadata": {},
   "outputs": [],
   "source": [
    "# Yes it works!!! Logic applied - the file being reference is a dataframe (not dictionary or a list hence why the other attempts failed)\n",
    "# Synthax works by looking up a value (loc) in the defined dataset (df) and return the value of the location of the column \"Date\" when the value in \"pnl_change\" is equal (==) to the pnl_change_max value"
   ]
  },
  {
   "cell_type": "code",
   "execution_count": null,
   "id": "a7a04fd7-25a1-4f21-9ef5-1c8641eef242",
   "metadata": {},
   "outputs": [],
   "source": [
    "#test ouput via print"
   ]
  },
  {
   "cell_type": "code",
   "execution_count": 128,
   "id": "f0531619-bfcc-4e42-8d61-7631d3be8a18",
   "metadata": {},
   "outputs": [
    {
     "name": "stdout",
     "output_type": "stream",
     "text": [
      "Financial Analysis\n",
      "\n",
      "----------------------------\n",
      "\n",
      "Total Months: 86\n",
      "Total: $38,382,578\n",
      "Average Change: $-2,315\n",
      "Greastest Increase in Profits:['Feb-2012'] $1,926,159\n",
      "Greastest Decreasse in Profits:['Sep-2013'], $-2,196,167\n"
     ]
    }
   ],
   "source": [
    "\n",
    "print(f\"Financial Analysis\\n\")\n",
    "print(f\"----------------------------\\n\")\n",
    "print(f\"Total Months: {month_count:,}\")\n",
    "print(f\"Total: ${total_pnl:,.0f}\")\n",
    "print(f\"Average Change: ${pnl_change_average:,.0f}\")\n",
    "print(f\"Greastest Increase in Profits:{pnl_change_max_date} ${pnl_change_max:,.0f}\")\n",
    "print(f\"Greastest Decreasse in Profits:{pnl_change_min_date}, ${pnl_change_min:,.0f}\")\n",
    "      \n",
    "\n"
   ]
  },
  {
   "cell_type": "code",
   "execution_count": null,
   "id": "efbd0600-2042-4061-ae57-aee769a891ec",
   "metadata": {},
   "outputs": [],
   "source": [
    "#print output file "
   ]
  },
  {
   "cell_type": "code",
   "execution_count": 118,
   "id": "7e5f0945-74dd-4144-ab76-3a7d2b9e7938",
   "metadata": {},
   "outputs": [],
   "source": [
    "# Set output file name\n",
    "output_path = 'output.txt'\n",
    "\n",
    "# Open the output path as a file object\n",
    "with open(output_path, 'w') as file:\n",
    "    # Write daily_average to the output file, convert to string\n",
    "    file.write(f\"Financial Analysis\\n\")\n",
    "    file.write(f\"----------------------------\\n\")\n",
    "    file.write(f\"Total Months: {month_count:,}\\n\")\n",
    "    file.write(f\"Total: ${total_pnl:,.0f}\\n\")\n",
    "    file.write(f\"Average Change: ${pnl_change_average:,.0f}\\n\")\n",
    "    file.write(f\"Greastest Increase in Profits:{pnl_change_max_date} ${pnl_change_max:,.0f}\\n\")\n",
    "    file.write(f\"Greastest Decreasse in Profits:{pnl_change_min_date} ${pnl_change_min:,.0f}\\n\")\n",
    "    "
   ]
  },
  {
   "cell_type": "code",
   "execution_count": null,
   "id": "d2a15def-4340-4ca8-a131-9de52faa337a",
   "metadata": {},
   "outputs": [],
   "source": [
    "line.translate(None, '[]')"
   ]
  }
 ],
 "metadata": {
  "kernelspec": {
   "display_name": "Python 3",
   "language": "python",
   "name": "python3"
  },
  "language_info": {
   "codemirror_mode": {
    "name": "ipython",
    "version": 3
   },
   "file_extension": ".py",
   "mimetype": "text/x-python",
   "name": "python",
   "nbconvert_exporter": "python",
   "pygments_lexer": "ipython3",
   "version": "3.9.2"
  }
 },
 "nbformat": 4,
 "nbformat_minor": 5
}
