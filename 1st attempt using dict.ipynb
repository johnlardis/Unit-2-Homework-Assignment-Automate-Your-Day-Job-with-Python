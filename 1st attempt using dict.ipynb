{
 "cells": [
  {
   "cell_type": "code",
   "execution_count": 10,
   "id": "c4b82622",
   "metadata": {},
   "outputs": [],
   "source": [
    "#import data set using pandas\n",
    "\n",
    "import pandas as pd"
   ]
  },
  {
   "cell_type": "code",
   "execution_count": 11,
   "id": "dc68edf8",
   "metadata": {},
   "outputs": [
    {
     "data": {
      "text/plain": [
       "'C:\\\\Users\\\\John Lardis\\\\Unit-2-Homework-Assignment-Automate-Your-Day-Job-with-Python'"
      ]
     },
     "execution_count": 11,
     "metadata": {},
     "output_type": "execute_result"
    }
   ],
   "source": [
    "pwd"
   ]
  },
  {
   "cell_type": "code",
   "execution_count": 12,
   "id": "688a2345",
   "metadata": {},
   "outputs": [
    {
     "data": {
      "text/html": [
       "<div>\n",
       "<style scoped>\n",
       "    .dataframe tbody tr th:only-of-type {\n",
       "        vertical-align: middle;\n",
       "    }\n",
       "\n",
       "    .dataframe tbody tr th {\n",
       "        vertical-align: top;\n",
       "    }\n",
       "\n",
       "    .dataframe thead th {\n",
       "        text-align: right;\n",
       "    }\n",
       "</style>\n",
       "<table border=\"1\" class=\"dataframe\">\n",
       "  <thead>\n",
       "    <tr style=\"text-align: right;\">\n",
       "      <th></th>\n",
       "      <th>Date</th>\n",
       "      <th>Profit/Losses</th>\n",
       "    </tr>\n",
       "  </thead>\n",
       "  <tbody>\n",
       "    <tr>\n",
       "      <th>0</th>\n",
       "      <td>Jan-2010</td>\n",
       "      <td>867884</td>\n",
       "    </tr>\n",
       "    <tr>\n",
       "      <th>1</th>\n",
       "      <td>Feb-2010</td>\n",
       "      <td>984655</td>\n",
       "    </tr>\n",
       "    <tr>\n",
       "      <th>2</th>\n",
       "      <td>Mar-2010</td>\n",
       "      <td>322013</td>\n",
       "    </tr>\n",
       "    <tr>\n",
       "      <th>3</th>\n",
       "      <td>Apr-2010</td>\n",
       "      <td>-69417</td>\n",
       "    </tr>\n",
       "    <tr>\n",
       "      <th>4</th>\n",
       "      <td>May-2010</td>\n",
       "      <td>310503</td>\n",
       "    </tr>\n",
       "    <tr>\n",
       "      <th>...</th>\n",
       "      <td>...</td>\n",
       "      <td>...</td>\n",
       "    </tr>\n",
       "    <tr>\n",
       "      <th>81</th>\n",
       "      <td>Oct-2016</td>\n",
       "      <td>102685</td>\n",
       "    </tr>\n",
       "    <tr>\n",
       "      <th>82</th>\n",
       "      <td>Nov-2016</td>\n",
       "      <td>795914</td>\n",
       "    </tr>\n",
       "    <tr>\n",
       "      <th>83</th>\n",
       "      <td>Dec-2016</td>\n",
       "      <td>60988</td>\n",
       "    </tr>\n",
       "    <tr>\n",
       "      <th>84</th>\n",
       "      <td>Jan-2017</td>\n",
       "      <td>138230</td>\n",
       "    </tr>\n",
       "    <tr>\n",
       "      <th>85</th>\n",
       "      <td>Feb-2017</td>\n",
       "      <td>671099</td>\n",
       "    </tr>\n",
       "  </tbody>\n",
       "</table>\n",
       "<p>86 rows × 2 columns</p>\n",
       "</div>"
      ],
      "text/plain": [
       "        Date  Profit/Losses\n",
       "0   Jan-2010         867884\n",
       "1   Feb-2010         984655\n",
       "2   Mar-2010         322013\n",
       "3   Apr-2010         -69417\n",
       "4   May-2010         310503\n",
       "..       ...            ...\n",
       "81  Oct-2016         102685\n",
       "82  Nov-2016         795914\n",
       "83  Dec-2016          60988\n",
       "84  Jan-2017         138230\n",
       "85  Feb-2017         671099\n",
       "\n",
       "[86 rows x 2 columns]"
      ]
     },
     "execution_count": 12,
     "metadata": {},
     "output_type": "execute_result"
    }
   ],
   "source": [
    "#testing to use full file name in case file is outside of working folder \n",
    "pd.read_csv('C:\\\\Users\\\\John Lardis\\\\Unit-2-Homework-Assignment-Automate-Your-Day-Job-with-Python\\\\budget_data.csv')"
   ]
  },
  {
   "cell_type": "code",
   "execution_count": 13,
   "id": "cfceb28c",
   "metadata": {},
   "outputs": [
    {
     "data": {
      "text/html": [
       "<div>\n",
       "<style scoped>\n",
       "    .dataframe tbody tr th:only-of-type {\n",
       "        vertical-align: middle;\n",
       "    }\n",
       "\n",
       "    .dataframe tbody tr th {\n",
       "        vertical-align: top;\n",
       "    }\n",
       "\n",
       "    .dataframe thead th {\n",
       "        text-align: right;\n",
       "    }\n",
       "</style>\n",
       "<table border=\"1\" class=\"dataframe\">\n",
       "  <thead>\n",
       "    <tr style=\"text-align: right;\">\n",
       "      <th></th>\n",
       "      <th>Date</th>\n",
       "      <th>Profit/Losses</th>\n",
       "    </tr>\n",
       "  </thead>\n",
       "  <tbody>\n",
       "    <tr>\n",
       "      <th>0</th>\n",
       "      <td>Jan-2010</td>\n",
       "      <td>867884</td>\n",
       "    </tr>\n",
       "    <tr>\n",
       "      <th>1</th>\n",
       "      <td>Feb-2010</td>\n",
       "      <td>984655</td>\n",
       "    </tr>\n",
       "    <tr>\n",
       "      <th>2</th>\n",
       "      <td>Mar-2010</td>\n",
       "      <td>322013</td>\n",
       "    </tr>\n",
       "    <tr>\n",
       "      <th>3</th>\n",
       "      <td>Apr-2010</td>\n",
       "      <td>-69417</td>\n",
       "    </tr>\n",
       "    <tr>\n",
       "      <th>4</th>\n",
       "      <td>May-2010</td>\n",
       "      <td>310503</td>\n",
       "    </tr>\n",
       "    <tr>\n",
       "      <th>...</th>\n",
       "      <td>...</td>\n",
       "      <td>...</td>\n",
       "    </tr>\n",
       "    <tr>\n",
       "      <th>81</th>\n",
       "      <td>Oct-2016</td>\n",
       "      <td>102685</td>\n",
       "    </tr>\n",
       "    <tr>\n",
       "      <th>82</th>\n",
       "      <td>Nov-2016</td>\n",
       "      <td>795914</td>\n",
       "    </tr>\n",
       "    <tr>\n",
       "      <th>83</th>\n",
       "      <td>Dec-2016</td>\n",
       "      <td>60988</td>\n",
       "    </tr>\n",
       "    <tr>\n",
       "      <th>84</th>\n",
       "      <td>Jan-2017</td>\n",
       "      <td>138230</td>\n",
       "    </tr>\n",
       "    <tr>\n",
       "      <th>85</th>\n",
       "      <td>Feb-2017</td>\n",
       "      <td>671099</td>\n",
       "    </tr>\n",
       "  </tbody>\n",
       "</table>\n",
       "<p>86 rows × 2 columns</p>\n",
       "</div>"
      ],
      "text/plain": [
       "        Date  Profit/Losses\n",
       "0   Jan-2010         867884\n",
       "1   Feb-2010         984655\n",
       "2   Mar-2010         322013\n",
       "3   Apr-2010         -69417\n",
       "4   May-2010         310503\n",
       "..       ...            ...\n",
       "81  Oct-2016         102685\n",
       "82  Nov-2016         795914\n",
       "83  Dec-2016          60988\n",
       "84  Jan-2017         138230\n",
       "85  Feb-2017         671099\n",
       "\n",
       "[86 rows x 2 columns]"
      ]
     },
     "execution_count": 13,
     "metadata": {},
     "output_type": "execute_result"
    }
   ],
   "source": [
    "#using file name only as folder is in working directory\n",
    "\n",
    "pd.read_csv('budget_data.csv')"
   ]
  },
  {
   "cell_type": "code",
   "execution_count": 14,
   "id": "1f10dce8",
   "metadata": {},
   "outputs": [],
   "source": [
    "#setting a new variable for budget_data \n",
    "\n",
    "df = pd.read_csv('budget_data.csv')"
   ]
  },
  {
   "cell_type": "code",
   "execution_count": 18,
   "id": "075113c9",
   "metadata": {},
   "outputs": [
    {
     "data": {
      "text/html": [
       "<div>\n",
       "<style scoped>\n",
       "    .dataframe tbody tr th:only-of-type {\n",
       "        vertical-align: middle;\n",
       "    }\n",
       "\n",
       "    .dataframe tbody tr th {\n",
       "        vertical-align: top;\n",
       "    }\n",
       "\n",
       "    .dataframe thead th {\n",
       "        text-align: right;\n",
       "    }\n",
       "</style>\n",
       "<table border=\"1\" class=\"dataframe\">\n",
       "  <thead>\n",
       "    <tr style=\"text-align: right;\">\n",
       "      <th></th>\n",
       "      <th>Date</th>\n",
       "      <th>Profit/Losses</th>\n",
       "    </tr>\n",
       "  </thead>\n",
       "  <tbody>\n",
       "    <tr>\n",
       "      <th>0</th>\n",
       "      <td>Jan-2010</td>\n",
       "      <td>867884</td>\n",
       "    </tr>\n",
       "    <tr>\n",
       "      <th>1</th>\n",
       "      <td>Feb-2010</td>\n",
       "      <td>984655</td>\n",
       "    </tr>\n",
       "    <tr>\n",
       "      <th>2</th>\n",
       "      <td>Mar-2010</td>\n",
       "      <td>322013</td>\n",
       "    </tr>\n",
       "    <tr>\n",
       "      <th>3</th>\n",
       "      <td>Apr-2010</td>\n",
       "      <td>-69417</td>\n",
       "    </tr>\n",
       "    <tr>\n",
       "      <th>4</th>\n",
       "      <td>May-2010</td>\n",
       "      <td>310503</td>\n",
       "    </tr>\n",
       "    <tr>\n",
       "      <th>...</th>\n",
       "      <td>...</td>\n",
       "      <td>...</td>\n",
       "    </tr>\n",
       "    <tr>\n",
       "      <th>81</th>\n",
       "      <td>Oct-2016</td>\n",
       "      <td>102685</td>\n",
       "    </tr>\n",
       "    <tr>\n",
       "      <th>82</th>\n",
       "      <td>Nov-2016</td>\n",
       "      <td>795914</td>\n",
       "    </tr>\n",
       "    <tr>\n",
       "      <th>83</th>\n",
       "      <td>Dec-2016</td>\n",
       "      <td>60988</td>\n",
       "    </tr>\n",
       "    <tr>\n",
       "      <th>84</th>\n",
       "      <td>Jan-2017</td>\n",
       "      <td>138230</td>\n",
       "    </tr>\n",
       "    <tr>\n",
       "      <th>85</th>\n",
       "      <td>Feb-2017</td>\n",
       "      <td>671099</td>\n",
       "    </tr>\n",
       "  </tbody>\n",
       "</table>\n",
       "<p>86 rows × 2 columns</p>\n",
       "</div>"
      ],
      "text/plain": [
       "        Date  Profit/Losses\n",
       "0   Jan-2010         867884\n",
       "1   Feb-2010         984655\n",
       "2   Mar-2010         322013\n",
       "3   Apr-2010         -69417\n",
       "4   May-2010         310503\n",
       "..       ...            ...\n",
       "81  Oct-2016         102685\n",
       "82  Nov-2016         795914\n",
       "83  Dec-2016          60988\n",
       "84  Jan-2017         138230\n",
       "85  Feb-2017         671099\n",
       "\n",
       "[86 rows x 2 columns]"
      ]
     },
     "execution_count": 18,
     "metadata": {},
     "output_type": "execute_result"
    }
   ],
   "source": [
    "#test to see if variable is pulling the right information \n",
    "\n",
    "df\n"
   ]
  },
  {
   "cell_type": "code",
   "execution_count": 30,
   "id": "f84cec44-892e-4112-a80e-243ce4f5d0c1",
   "metadata": {},
   "outputs": [
    {
     "data": {
      "text/plain": [
       "Date             86\n",
       "Profit/Losses    86\n",
       "dtype: int64"
      ]
     },
     "execution_count": 30,
     "metadata": {},
     "output_type": "execute_result"
    }
   ],
   "source": [
    "df.count(0)"
   ]
  },
  {
   "cell_type": "code",
   "execution_count": 41,
   "id": "e558effe-6b9c-45fa-b9c4-79bbc5fd4f9b",
   "metadata": {},
   "outputs": [
    {
     "name": "stdout",
     "output_type": "stream",
     "text": [
      "Empty DataFrame\n",
      "Columns: []\n",
      "Index: [Apr-2010, Apr-2011, Apr-2012, Apr-2013, Apr-2014, Apr-2015, Apr-2016, Aug-2010, Aug-2011, Aug-2012, Aug-2013, Aug-2014, Aug-2015, Aug-2016, Dec-2010, Dec-2011, Dec-2012, Dec-2013, Dec-2014, Dec-2015, Dec-2016, Feb-2010, Feb-2011, Feb-2012, Feb-2013, Feb-2014, Feb-2015, Feb-2016, Feb-2017, Jan-2010, Jan-2011, Jan-2012, Jan-2013, Jan-2014, Jan-2015, Jan-2016, Jan-2017, Jul-2010, Jul-2011, Jul-2012, Jul-2013, Jul-2014, Jul-2015, Jul-2016, Jun-2010, Jun-2011, Jun-2012, Jun-2013, Jun-2014, Jun-2015, Jun-2016, Mar-2010, Mar-2011, Mar-2012, Mar-2013, Mar-2014, Mar-2015, Mar-2016, May-2010, May-2011, May-2012, May-2013, May-2014, May-2015, May-2016, Nov-2010, Nov-2011, Nov-2012, Nov-2013, Nov-2014, Nov-2015, Nov-2016, Oct-2010, Oct-2011, Oct-2012, Oct-2013, Oct-2014, Oct-2015, Oct-2016, Sep-2010, Sep-2011, Sep-2012, Sep-2013, Sep-2014, Sep-2015, Sep-2016]\n",
      "\n",
      "[86 rows x 0 columns]\n"
     ]
    }
   ],
   "source": [
    "month_count = df.set_index([\"Date\", \"Profit/Losses\"]).count(level=\"Date\")\n",
    "\n",
    "print(month_count)"
   ]
  },
  {
   "cell_type": "code",
   "execution_count": 39,
   "id": "75deb6e4-a0ee-422e-a541-dacc156896b8",
   "metadata": {},
   "outputs": [
    {
     "name": "stdout",
     "output_type": "stream",
     "text": [
      "Date             86\n",
      "Profit/Losses    86\n",
      "dtype: int64\n"
     ]
    }
   ],
   "source": [
    "print(df.count(axis = 0))"
   ]
  },
  {
   "cell_type": "code",
   "execution_count": 26,
   "id": "0adbd97f",
   "metadata": {},
   "outputs": [
    {
     "ename": "NameError",
     "evalue": "name 'budget_data' is not defined",
     "output_type": "error",
     "traceback": [
      "\u001b[1;31m---------------------------------------------------------------------------\u001b[0m",
      "\u001b[1;31mNameError\u001b[0m                                 Traceback (most recent call last)",
      "\u001b[1;32m<ipython-input-26-102f534e08b4>\u001b[0m in \u001b[0;36m<module>\u001b[1;34m\u001b[0m\n\u001b[0;32m      7\u001b[0m \u001b[0mmonth\u001b[0m \u001b[1;33m=\u001b[0m \u001b[1;33m{\u001b[0m\u001b[1;33m}\u001b[0m\u001b[1;33m\u001b[0m\u001b[1;33m\u001b[0m\u001b[0m\n\u001b[0;32m      8\u001b[0m \u001b[1;33m\u001b[0m\u001b[0m\n\u001b[1;32m----> 9\u001b[1;33m \u001b[1;32mfor\u001b[0m \u001b[0mrow\u001b[0m \u001b[1;32min\u001b[0m \u001b[0mbudget_data\u001b[0m\u001b[1;33m:\u001b[0m\u001b[1;33m\u001b[0m\u001b[1;33m\u001b[0m\u001b[0m\n\u001b[0m\u001b[0;32m     10\u001b[0m     \u001b[0mmonth\u001b[0m\u001b[1;33m[\u001b[0m\u001b[0mrow\u001b[0m\u001b[1;33m(\u001b[0m\u001b[1;36m0\u001b[0m\u001b[1;33m)\u001b[0m\u001b[1;33m]\u001b[0m \u001b[1;33m=\u001b[0m \u001b[1;33m{\u001b[0m\u001b[1;34m\"Profit_Loss\"\u001b[0m\u001b[1;33m:\u001b[0m\u001b[0mrow\u001b[0m\u001b[1;33m(\u001b[0m\u001b[1;36m1\u001b[0m\u001b[1;33m)\u001b[0m\u001b[1;33m}\u001b[0m\u001b[1;33m\u001b[0m\u001b[1;33m\u001b[0m\u001b[0m\n",
      "\u001b[1;31mNameError\u001b[0m: name 'budget_data' is not defined"
     ]
    }
   ],
   "source": [
    "#Next step is to count the total number of months - so we want to count all the months in column 2 or count column 1 assuming all values in column 2 are unique right. \n",
    "#How to we check this? \n",
    "#start off with a simple count then work from there\n",
    "\n",
    "#create new dictionary?? lets try \n",
    "\n",
    "month = {}\n",
    "\n",
    "for row in budget_data:\n",
    "    month[row(0)] = {\"Profit_Loss\":row(1)}"
   ]
  },
  {
   "cell_type": "code",
   "execution_count": 51,
   "id": "55c0bd5d",
   "metadata": {},
   "outputs": [
    {
     "data": {
      "text/plain": [
       "{'Date': {0: 'Jan-2010',\n",
       "  1: 'Feb-2010',\n",
       "  2: 'Mar-2010',\n",
       "  3: 'Apr-2010',\n",
       "  4: 'May-2010',\n",
       "  5: 'Jun-2010',\n",
       "  6: 'Jul-2010',\n",
       "  7: 'Aug-2010',\n",
       "  8: 'Sep-2010',\n",
       "  9: 'Oct-2010',\n",
       "  10: 'Nov-2010',\n",
       "  11: 'Dec-2010',\n",
       "  12: 'Jan-2011',\n",
       "  13: 'Feb-2011',\n",
       "  14: 'Mar-2011',\n",
       "  15: 'Apr-2011',\n",
       "  16: 'May-2011',\n",
       "  17: 'Jun-2011',\n",
       "  18: 'Jul-2011',\n",
       "  19: 'Aug-2011',\n",
       "  20: 'Sep-2011',\n",
       "  21: 'Oct-2011',\n",
       "  22: 'Nov-2011',\n",
       "  23: 'Dec-2011',\n",
       "  24: 'Jan-2012',\n",
       "  25: 'Feb-2012',\n",
       "  26: 'Mar-2012',\n",
       "  27: 'Apr-2012',\n",
       "  28: 'May-2012',\n",
       "  29: 'Jun-2012',\n",
       "  30: 'Jul-2012',\n",
       "  31: 'Aug-2012',\n",
       "  32: 'Sep-2012',\n",
       "  33: 'Oct-2012',\n",
       "  34: 'Nov-2012',\n",
       "  35: 'Dec-2012',\n",
       "  36: 'Jan-2013',\n",
       "  37: 'Feb-2013',\n",
       "  38: 'Mar-2013',\n",
       "  39: 'Apr-2013',\n",
       "  40: 'May-2013',\n",
       "  41: 'Jun-2013',\n",
       "  42: 'Jul-2013',\n",
       "  43: 'Aug-2013',\n",
       "  44: 'Sep-2013',\n",
       "  45: 'Oct-2013',\n",
       "  46: 'Nov-2013',\n",
       "  47: 'Dec-2013',\n",
       "  48: 'Jan-2014',\n",
       "  49: 'Feb-2014',\n",
       "  50: 'Mar-2014',\n",
       "  51: 'Apr-2014',\n",
       "  52: 'May-2014',\n",
       "  53: 'Jun-2014',\n",
       "  54: 'Jul-2014',\n",
       "  55: 'Aug-2014',\n",
       "  56: 'Sep-2014',\n",
       "  57: 'Oct-2014',\n",
       "  58: 'Nov-2014',\n",
       "  59: 'Dec-2014',\n",
       "  60: 'Jan-2015',\n",
       "  61: 'Feb-2015',\n",
       "  62: 'Mar-2015',\n",
       "  63: 'Apr-2015',\n",
       "  64: 'May-2015',\n",
       "  65: 'Jun-2015',\n",
       "  66: 'Jul-2015',\n",
       "  67: 'Aug-2015',\n",
       "  68: 'Sep-2015',\n",
       "  69: 'Oct-2015',\n",
       "  70: 'Nov-2015',\n",
       "  71: 'Dec-2015',\n",
       "  72: 'Jan-2016',\n",
       "  73: 'Feb-2016',\n",
       "  74: 'Mar-2016',\n",
       "  75: 'Apr-2016',\n",
       "  76: 'May-2016',\n",
       "  77: 'Jun-2016',\n",
       "  78: 'Jul-2016',\n",
       "  79: 'Aug-2016',\n",
       "  80: 'Sep-2016',\n",
       "  81: 'Oct-2016',\n",
       "  82: 'Nov-2016',\n",
       "  83: 'Dec-2016',\n",
       "  84: 'Jan-2017',\n",
       "  85: 'Feb-2017'},\n",
       " 'Profit/Losses': {0: 867884,\n",
       "  1: 984655,\n",
       "  2: 322013,\n",
       "  3: -69417,\n",
       "  4: 310503,\n",
       "  5: 522857,\n",
       "  6: 1033096,\n",
       "  7: 604885,\n",
       "  8: -216386,\n",
       "  9: 477532,\n",
       "  10: 893810,\n",
       "  11: -80353,\n",
       "  12: 779806,\n",
       "  13: -335203,\n",
       "  14: 697845,\n",
       "  15: 793163,\n",
       "  16: 485070,\n",
       "  17: 584122,\n",
       "  18: 62729,\n",
       "  19: 668179,\n",
       "  20: 899906,\n",
       "  21: 834719,\n",
       "  22: 132003,\n",
       "  23: 309978,\n",
       "  24: -755566,\n",
       "  25: 1170593,\n",
       "  26: 252788,\n",
       "  27: 1151518,\n",
       "  28: 817256,\n",
       "  29: 570757,\n",
       "  30: 506702,\n",
       "  31: -1022534,\n",
       "  32: 475062,\n",
       "  33: 779976,\n",
       "  34: 144175,\n",
       "  35: 542494,\n",
       "  36: 359333,\n",
       "  37: 321469,\n",
       "  38: 67780,\n",
       "  39: 471435,\n",
       "  40: 565603,\n",
       "  41: 872480,\n",
       "  42: 789480,\n",
       "  43: 999942,\n",
       "  44: -1196225,\n",
       "  45: 268997,\n",
       "  46: -687986,\n",
       "  47: 1150461,\n",
       "  48: 682458,\n",
       "  49: 617856,\n",
       "  50: 824098,\n",
       "  51: 581943,\n",
       "  52: 132864,\n",
       "  53: 448062,\n",
       "  54: 689161,\n",
       "  55: 800701,\n",
       "  56: 1166643,\n",
       "  57: 947333,\n",
       "  58: 578668,\n",
       "  59: 988505,\n",
       "  60: 1139715,\n",
       "  61: 1029471,\n",
       "  62: 687533,\n",
       "  63: -524626,\n",
       "  64: 158620,\n",
       "  65: 87795,\n",
       "  66: 423389,\n",
       "  67: 840723,\n",
       "  68: 568529,\n",
       "  69: 332067,\n",
       "  70: 989499,\n",
       "  71: 778237,\n",
       "  72: 650000,\n",
       "  73: -1100387,\n",
       "  74: -174946,\n",
       "  75: 757143,\n",
       "  76: 445709,\n",
       "  77: 712961,\n",
       "  78: -1163797,\n",
       "  79: 569899,\n",
       "  80: 768450,\n",
       "  81: 102685,\n",
       "  82: 795914,\n",
       "  83: 60988,\n",
       "  84: 138230,\n",
       "  85: 671099}}"
      ]
     },
     "execution_count": 51,
     "metadata": {},
     "output_type": "execute_result"
    }
   ],
   "source": [
    "d=df.to_dict(orient=\"dict\")\n",
    "d"
   ]
  },
  {
   "cell_type": "code",
   "execution_count": 68,
   "id": "3a43533d",
   "metadata": {},
   "outputs": [
    {
     "data": {
      "text/plain": [
       "86"
      ]
     },
     "execution_count": 68,
     "metadata": {},
     "output_type": "execute_result"
    }
   ],
   "source": [
    "month_count = 0\n",
    "\n",
    "for month in d[\"Date\"]:\n",
    "    month_count += 1\n",
    "\n",
    "month_count\n",
    "\n",
    "\n"
   ]
  },
  {
   "cell_type": "code",
   "execution_count": 84,
   "id": "ce9c31de",
   "metadata": {},
   "outputs": [
    {
     "data": {
      "text/plain": [
       "38382578"
      ]
     },
     "execution_count": 84,
     "metadata": {},
     "output_type": "execute_result"
    }
   ],
   "source": [
    "sum(d[\"Profit/Losses\"])\n"
   ]
  }
 ],
 "metadata": {
  "kernelspec": {
   "display_name": "Python 3",
   "language": "python",
   "name": "python3"
  },
  "language_info": {
   "codemirror_mode": {
    "name": "ipython",
    "version": 3
   },
   "file_extension": ".py",
   "mimetype": "text/x-python",
   "name": "python",
   "nbconvert_exporter": "python",
   "pygments_lexer": "ipython3",
   "version": "3.9.2"
  }
 },
 "nbformat": 4,
 "nbformat_minor": 5
}
